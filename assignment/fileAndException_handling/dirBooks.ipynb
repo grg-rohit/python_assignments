{
  "nbformat": 4,
  "nbformat_minor": 0,
  "metadata": {
    "colab": {
      "name": "dirBooks.ipynb",
      "provenance": [],
      "collapsed_sections": [],
      "authorship_tag": "ABX9TyPQxmiCKut44A08vocX1VdO",
      "include_colab_link": true
    },
    "kernelspec": {
      "name": "python3",
      "display_name": "Python 3"
    },
    "language_info": {
      "name": "python"
    }
  },
  "cells": [
    {
      "cell_type": "markdown",
      "metadata": {
        "id": "view-in-github",
        "colab_type": "text"
      },
      "source": [
        "<a href=\"https://colab.research.google.com/github/grg-rohit/python_assignments/blob/master/assignment/fileAndException_handling/dirBooks.ipynb\" target=\"_parent\"><img src=\"https://colab.research.google.com/assets/colab-badge.svg\" alt=\"Open In Colab\"/></a>"
      ]
    },
    {
      "cell_type": "code",
      "metadata": {
        "id": "wMouboMNeZa9"
      },
      "source": [
        "import os\n",
        "import shutil\n",
        "import string\n",
        "os.chdir(\"/content\")"
      ],
      "execution_count": 15,
      "outputs": []
    },
    {
      "cell_type": "code",
      "metadata": {
        "id": "_8-r9yvtf7Dm"
      },
      "source": [
        "os.mkdir(\"books\")\n",
        "\n",
        "\n",
        "#creating a list of the txt files\n",
        "txtFiles = ['history.txt', 'hitler.txt', 'oldman.txt', 'oliver.txt', 'alice.txt', 'siddhartha.txt']\n",
        "\n",
        "#creating an empty list to store A-Z\n",
        "Books_order = []\n",
        "\n",
        "#initializing A-Z in Books_order\n",
        "for letter in string.ascii_uppercase:\n",
        "    Books_order += letter\n",
        "\n",
        "os.chdir(\"/content/books\")\n",
        "\n",
        "for book in Books_order:\n",
        "    os.mkdir(book)\n",
        "\n",
        "for file in txtFiles:\n",
        "    shutil.move('/content/drive/MyDrive/txtFiles/'+file,  \"/content/books/\"+txtFile[0].upper()+\"/\"+file)"
      ],
      "execution_count": 16,
      "outputs": []
    }
  ]
}